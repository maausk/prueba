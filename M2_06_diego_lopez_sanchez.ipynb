{
 "cells": [
  {
   "cell_type": "markdown",
   "metadata": {},
   "source": [
    "# Ejercicios Modulo 2. Funciones\n",
    "\n",
    "Consideraciones a tener en cuenta: \n",
    "\n",
    "* Guardar este documento con el siguiente formato para su entrega: __M2_06_nombre_apellido1_apellido2__\n",
    "* Realizar los ejercicios con las herramientas vistas en las sesiones. \n",
    "* Comentar el código\n",
    "* Utilizar nombres de variables apropiados, si vais a guardar una nota, llamar a esa variable nota, no n o x"
   ]
  },
  {
   "cell_type": "markdown",
   "metadata": {},
   "source": [
    "**1) Realiza una función que devuelva el área de un rectángulo a partir de su base y su altura. La función se llamará area_rectangulo(). La base y la altura se pedirán al usuario por teclado.**\n",
    "\n",
    "*Nota: El área de un rectángulo se obtiene al multiplicar la base por la altura.*"
   ]
  },
  {
   "cell_type": "code",
   "execution_count": null,
   "metadata": {},
   "outputs": [],
   "source": [
    "def area_rectangulo():\n",
    "    # Pedir la base del rectángulo al usuario\n",
    "    base = float(input(\"Ingrese la base del rectángulo: \"))\n",
    "    \n",
    "    # Pedir la altura del rectángulo al usuario\n",
    "    altura = float(input(\"Ingrese la altura del rectángulo: \"))\n",
    "    \n",
    "    # Calcular el área del rectángulo\n",
    "    area = base * altura\n",
    "    \n",
    "    # Devolver el área\n",
    "    return area\n",
    "\n",
    "# Imprimir el área del rectángulo\n",
    "print(\"El área del rectángulo es:\", area_rectangulo())\n",
    "    \n"
   ]
  },
  {
   "cell_type": "markdown",
   "metadata": {},
   "source": [
    "**2) Realiza una función que devuelva el área de un círculo a partir de un radio. La función se llamará area_circulo(). El radio se pedirá al usuario por teclado:**\n",
    "\n",
    "Nota: El área de un círculo se obtiene al elevar el radio a dos y multiplicando el resultado por el número pi. Puedes utilizar el valor 3.14159 como pi o importarlo del módulo math:\n",
    "```python\n",
    "import math\n",
    "print(math.pi)\n",
    "> 3.1415...\n",
    "```"
   ]
  },
  {
   "cell_type": "code",
   "execution_count": null,
   "metadata": {},
   "outputs": [],
   "source": [
    "import math\n",
    "\n",
    "def area_circulo():\n",
    "    \"\"\"Calcula el área de un círculo dado su radio.\"\"\"\n",
    "    \n",
    "    # Pedir el radio del círculo al usuario y validar que sea un número positivo\n",
    "    radio_circulo = float(input(\"Ingrese el radio del circulo: \"))\n",
    "    if radio_circulo <= 0:\n",
    "        print(\"El radio del círculo debe ser un número positivo.\")\n",
    "        return\n",
    "    \n",
    "    # Calcular el área del círculo\n",
    "    area = (radio_circulo ** 2) * math.pi\n",
    "    \n",
    "    # Mostrar el área del círculo redondeando a solo dos decimales\n",
    "    \n",
    "    print(\"El área del circulo es {}\".format(round(area,2)))\n",
    "\n",
    "#llamamos a la funcion\n",
    "\n",
    "area_circulo()"
   ]
  },
  {
   "cell_type": "markdown",
   "metadata": {},
   "source": [
    "**3) Realiza una función llamada lee_numero() que solicite y lea por teclado un numero. Utilizar esta función para pedirle al usuario 3 números. Luego pasarle estos 3 números a una función que se llame mayor() que tenga 3 parámetros y que devuelva el número mayor de los 3:**"
   ]
  },
  {
   "cell_type": "code",
   "execution_count": 1,
   "metadata": {},
   "outputs": [
    {
     "name": "stdout",
     "output_type": "stream",
     "text": [
      "Ingresa un número: 5\n",
      "Ingresa un número: 4\n",
      "Ingresa un número: 5\n",
      "El número mayor es: 5\n"
     ]
    }
   ],
   "source": [
    "def lee_numero(): #solicita un numero entero y lo devuelve\n",
    "    num = int(input(\"Ingresa un número: \"))\n",
    "    return num\n",
    "\n",
    "def mayor(n1, n2, n3): #Comparamos el primer numero con el segundo y despues con el tercero\n",
    "    if n1 > n2 and n1 > n3:\n",
    "        return n1\n",
    "    elif n2 > n3: #Comparamos el segundo con el tercer\n",
    "        return n2\n",
    "    else:\n",
    "        return n3 #si estamos aqui es forzosamente el tercero\n",
    "\n",
    "# Pedir al usuario que ingrese 3 números\n",
    "num1 = lee_numero()\n",
    "num2 = lee_numero()\n",
    "num3 = lee_numero()\n",
    "\n",
    "# Encontrar el número mayor y mostrarlo en pantalla\n",
    "num_mayor = mayor(num1, num2, num3)\n",
    "print(\"El número mayor es:\", num_mayor)  \n"
   ]
  },
  {
   "cell_type": "markdown",
   "metadata": {},
   "source": [
    "**4) Realizar una función llamada imc(). Esta función nos proporcionará el estado nutricional de una persona. Esto es; la clasificación de su índice de masa corporal (IMC), según la tabla proporcionada. La función recibirá el peso (en kilos) y la talla de una persona (en metros con dos decimales), datos a partir de los cuales se puede calcular el IMC cómo:**\n",
    "\n",
    "IMC = peso / (altura * altura)\n",
    "\n",
    "Clasificación: IMC (Kg/m^2)\n",
    "* Bajo peso:  < 18.50\n",
    "* Normal:      [18.50, 25.00)\n",
    "* Sobrepeso: >= 25.00\n",
    "* Obesidad: >= 30.00"
   ]
  },
  {
   "cell_type": "code",
   "execution_count": null,
   "metadata": {},
   "outputs": [],
   "source": [
    "def calcula_indice_masa_corporal():\n",
    "    \"\"\"Solicita al usuario su peso y altura y calcula su índice de masa corporal.\"\"\"\n",
    "    \n",
    "    # Pedir al usuario que ingrese su peso y altura y validar que sean números flotantes positivos\n",
    "    while True:\n",
    "        try:\n",
    "            peso = float(input(\"Introduzca su peso en kilos: \"))\n",
    "            if peso <= 0:\n",
    "                raise ValueError\n",
    "            break\n",
    "        except ValueError:\n",
    "            print(\"Por favor, ingrese un peso válido (un número flotante positivo).\")\n",
    "    while True:\n",
    "        try:\n",
    "            altura = float(input(\"Introduzca su altura en metros: \"))\n",
    "            if altura <= 0:\n",
    "                raise ValueError\n",
    "            break\n",
    "        except ValueError:\n",
    "            print(\"Por favor, ingrese una altura válida (un número flotante positivo).\")\n",
    "    \n",
    "    # Calcular el índice de masa corporal\n",
    "    indice_masa_corporal = peso / (altura ** 2)\n",
    "    return indice_masa_corporal\n",
    "\n",
    "def determina_categoria_peso(indice_masa_corporal):\n",
    "    \"\"\"Determina en qué categoría de peso se encuentra el usuario según su índice de masa corporal.\"\"\"\n",
    "    \n",
    "    # Determinar la categoría de peso según el índice de masa corporal\n",
    "    if indice_masa_corporal < 18.5:\n",
    "        print(\"Su peso está por debajo de lo ideal.\")\n",
    "    elif indice_masa_corporal < 25:\n",
    "        print(\"Su peso es normal.\")\n",
    "    elif indice_masa_corporal < 30:\n",
    "        print(\"Sufre sobrepeso.\")\n",
    "    else:\n",
    "        print(\"Sufre obesidad.\")\n",
    "\n",
    "# Calcular el índice de masa corporal del usuario y determinar su categoría de peso\n",
    "indice_masa_corporal = calcula_indice_masa_corporal()\n",
    "print(f\"Su índice de masa corporal es {indice_masa_corporal:.2f}.\")\n",
    "determina_categoria_peso(indice_masa_corporal)\n",
    "\n"
   ]
  },
  {
   "cell_type": "markdown",
   "metadata": {},
   "source": [
    "**5) ¿Recuerdas este programa de la unidad de control de flujo?**\n",
    "\n",
    "Realiza un programa que realice las siguientes tareas:\n",
    "\n",
    "* Paso 1) solicite al usuario una contraseña y la guarde en una variable\n",
    "* Paso 2) pida al usuario introducir la contraseña para loguearse\n",
    "    * si la contraseña es correcta mostramos \"Login correcto\"\n",
    "    * si la contraseña no es correcta se le tendrá que mostrar un mensaje de \"Login fallido. Intento 1\", donde 1 será una variable contador que irá incrementandose hasta llegar a 5. En ese punto reiniciamos el programa y volveremos al Paso 1\n",
    "\n",
    "__Reestructura el ejercicio dividiéndolo al máximo en funciones.__"
   ]
  },
  {
   "cell_type": "code",
   "execution_count": 6,
   "metadata": {},
   "outputs": [
    {
     "name": "stdout",
     "output_type": "stream",
     "text": [
      "Introduzca una contraseña: mortadelo\n",
      "Introduzca la contraseña para acceder: filemon\n",
      "Contraseña incorrecta.\n",
      "Intento 1 de 5\n",
      "Introduzca la contraseña para acceder: filemon\n",
      "Contraseña incorrecta.\n",
      "Intento 2 de 5\n",
      "Introduzca la contraseña para acceder: mortadelo\n",
      "Inicio de sesión correcto. ¡Enhorabuena!\n"
     ]
    }
   ],
   "source": [
    "def introducir_contrasena():\n",
    "    contrasena = input(\"Introduzca una contraseña: \")\n",
    "    return contrasena\n",
    "\n",
    "def iniciar_sesion(contrasena):\n",
    "    intentos = 0\n",
    "    while intentos < 5:\n",
    "        contrasena_ingresada = input(\"Introduzca la contraseña para acceder: \")\n",
    "        if contrasena_ingresada == contrasena:\n",
    "            print(\"Inicio de sesión correcto. ¡Enhorabuena!\")\n",
    "            break\n",
    "        else:\n",
    "            print(\"Contraseña incorrecta.\")\n",
    "            intentos += 1\n",
    "            if intentos == 5:\n",
    "                print(\"Ha alcanzado el número máximo de intentos permitidos. Acceso denegado.\")\n",
    "            else:\n",
    "                print(f\"Intento {intentos} de 5\")\n",
    "\n",
    "def inicio():\n",
    "    contrasena = introducir_contrasena()\n",
    "    iniciar_sesion(contrasena)\n",
    "\n",
    "inicio()"
   ]
  }
 ],
 "metadata": {
  "anaconda-cloud": {},
  "kernelspec": {
   "display_name": "Python 3 (ipykernel)",
   "language": "python",
   "name": "python3"
  },
  "language_info": {
   "codemirror_mode": {
    "name": "ipython",
    "version": 3
   },
   "file_extension": ".py",
   "mimetype": "text/x-python",
   "name": "python",
   "nbconvert_exporter": "python",
   "pygments_lexer": "ipython3",
   "version": "3.9.13"
  }
 },
 "nbformat": 4,
 "nbformat_minor": 1
}
